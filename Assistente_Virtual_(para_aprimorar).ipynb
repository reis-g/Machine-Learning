{
  "nbformat": 4,
  "nbformat_minor": 0,
  "metadata": {
    "colab": {
      "provenance": [],
      "authorship_tag": "ABX9TyNxDI4hyv+iVu5ackVBV3R7",
      "include_colab_link": true
    },
    "kernelspec": {
      "name": "python3",
      "display_name": "Python 3"
    },
    "language_info": {
      "name": "python"
    }
  },
  "cells": [
    {
      "cell_type": "markdown",
      "metadata": {
        "id": "view-in-github",
        "colab_type": "text"
      },
      "source": [
        "<a href=\"https://colab.research.google.com/github/reis-g/Machine-Learning/blob/main/Assistente_Virtual_(para_aprimorar).ipynb\" target=\"_parent\"><img src=\"https://colab.research.google.com/assets/colab-badge.svg\" alt=\"Open In Colab\"/></a>"
      ]
    },
    {
      "cell_type": "code",
      "execution_count": null,
      "metadata": {
        "id": "A3KFTRRiEMJg"
      },
      "outputs": [],
      "source": [
        "!pip install SpeechRecognition pyttsx3 wikipedia geopy opencv-python\n",
        "!apt-get install -y libespeak1\n"
      ]
    },
    {
      "cell_type": "code",
      "source": [
        "import pyttsx3\n",
        "\n",
        "def speak(text):\n",
        "    engine = pyttsx3.init()\n",
        "    engine.setProperty('rate', 150)  # Velocidade da fala\n",
        "    engine.setProperty('volume', 0.9)  # Volume\n",
        "    engine.say(text)\n",
        "    engine.runAndWait()\n"
      ],
      "metadata": {
        "id": "3OyxwRVvEM7w"
      },
      "execution_count": null,
      "outputs": []
    },
    {
      "cell_type": "code",
      "source": [
        "speak(\"Olá! Eu sou sua assistente virtual.\")\n"
      ],
      "metadata": {
        "id": "r8FmSh7cEUCA"
      },
      "execution_count": null,
      "outputs": []
    },
    {
      "cell_type": "code",
      "source": [
        "import speech_recognition as sr\n",
        "\n",
        "def listen():\n",
        "    recognizer = sr.Recognizer()\n",
        "    with sr.Microphone() as source:\n",
        "        print(\"Ouvindo...\")\n",
        "        audio = recognizer.listen(source)\n",
        "        try:\n",
        "            command = recognizer.recognize_google(audio, language=\"pt-BR\")\n",
        "            print(f\"Você disse: {command}\")\n",
        "            return command.lower()\n",
        "        except sr.UnknownValueError:\n",
        "            print(\"Não entendi o que você disse.\")\n",
        "            return \"\"\n",
        "        except sr.RequestError:\n",
        "            print(\"Erro ao acessar o serviço de reconhecimento.\")\n",
        "            return \"\"\n"
      ],
      "metadata": {
        "id": "p6WD-3IcEVQY"
      },
      "execution_count": null,
      "outputs": []
    },
    {
      "cell_type": "code",
      "source": [
        "comando = listen()\n",
        "speak(f\"Você disse: {comando}\")\n"
      ],
      "metadata": {
        "id": "b_vOCNwBEYu4"
      },
      "execution_count": null,
      "outputs": []
    },
    {
      "cell_type": "code",
      "source": [
        "import wikipedia\n",
        "\n",
        "def pesquisar_wikipedia(query):\n",
        "    wikipedia.set_lang(\"pt\")\n",
        "    try:\n",
        "        resumo = wikipedia.summary(query, sentences=2)\n",
        "        speak(f\"Encontrei isso no Wikipedia sobre {query}: {resumo}\")\n",
        "    except wikipedia.DisambiguationError as e:\n",
        "        speak(f\"Há várias opções para {query}. Por favor, seja mais específico.\")\n",
        "    except wikipedia.PageError:\n",
        "        speak(\"Não encontrei resultados.\")\n"
      ],
      "metadata": {
        "id": "LTaWgakLEbho"
      },
      "execution_count": null,
      "outputs": []
    },
    {
      "cell_type": "code",
      "source": [
        "import webbrowser\n",
        "\n",
        "def abrir_youtube():\n",
        "    speak(\"Abrindo o YouTube.\")\n",
        "    webbrowser.open(\"https://www.youtube.com\")\n"
      ],
      "metadata": {
        "id": "VP-gEjcREeSQ"
      },
      "execution_count": null,
      "outputs": []
    },
    {
      "cell_type": "code",
      "source": [
        "from geopy.geocoders import Nominatim\n",
        "\n",
        "def localizar_farmacia():\n",
        "    geolocator = Nominatim(user_agent=\"assistente_virtual\")\n",
        "    location = geolocator.geocode(\"farmácia próxima\")\n",
        "    if location:\n",
        "        speak(f\"A farmácia mais próxima está em {location.address}.\")\n",
        "        print(location.address)\n",
        "    else:\n",
        "        speak(\"Não consegui localizar farmácias próximas.\")\n"
      ],
      "metadata": {
        "id": "x62Saw70EgMg"
      },
      "execution_count": null,
      "outputs": []
    },
    {
      "cell_type": "code",
      "source": [
        "def assistente_virtual():\n",
        "    speak(\"Olá! Como posso ajudar você?\")\n",
        "    while True:\n",
        "        comando = listen()\n",
        "\n",
        "        if \"wikipedia\" in comando:\n",
        "            speak(\"O que você gostaria de saber?\")\n",
        "            query = listen()\n",
        "            if query:\n",
        "                pesquisar_wikipedia(query)\n",
        "\n",
        "        elif \"youtube\" in comando:\n",
        "            abrir_youtube()\n",
        "\n",
        "        elif \"farmácia mais próxima\" in comando:\n",
        "            localizar_farmacia()\n",
        "\n",
        "        elif \"sair\" in comando:\n",
        "            speak(\"Encerrando o sistema. Até logo!\")\n",
        "            break\n",
        "\n",
        "        else:\n",
        "            speak(\"Desculpe, não entendi o comando.\")\n"
      ],
      "metadata": {
        "id": "3R_kBaTlEktQ"
      },
      "execution_count": null,
      "outputs": []
    },
    {
      "cell_type": "code",
      "source": [
        "if __name__ == \"__main__\":\n",
        "    assistente_virtual()\n"
      ],
      "metadata": {
        "id": "kNHRAdKfE0hg"
      },
      "execution_count": null,
      "outputs": []
    }
  ]
}